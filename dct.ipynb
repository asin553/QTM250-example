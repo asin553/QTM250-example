{
 "cells": [
  {
   "cell_type": "markdown",
   "metadata": {},
   "source": [
    "# The DCT (Discrete Cosine Transform)\n",
    "\n",
    "Jim Mahoney | Computer Science @ Marlboro College |\n",
    "cs.marlboro.edu | Jan 2019 | MIT License\n",
    "\n",
    "An explanation and illustration of the math behind the Discrete Cosine Transform\n",
    "and the concepts used in lossy JPEG image compression - low pass filtering."
   ]
  },
  {
   "cell_type": "code",
   "execution_count": 23,
   "metadata": {},
   "outputs": [],
   "source": [
    "# imports \n",
    "import numpy as np\n",
    "from numpy import *\n",
    "import matplotlib.pyplot as plt\n",
    "from matplotlib.pyplot import *\n",
    "import matplotlib.image as mpimg\n",
    "\n",
    "%matplotlib inline\n",
    "\n",
    "# software versions: \n",
    "# python 3.6, numpy 1.15, matplotlib 3.0.2, Pillow 5.4.1 (python imaging library)"
   ]
  },
  {
   "cell_type": "markdown",
   "metadata": {},
   "source": [
    "## The basic linear algebra with N = 2\n",
    "\n",
    "You can think of a vector - a list of numbers - as coefficients times basis vectors.\n",
    "\n",
    "$$  f_0 \\left[ \\begin{array}{c}  1 \\\\ 0  \\end{array} \\right] + f_1 \\left[ \\begin{array}{c}  0 \\\\ 1  \\end{array} \\right] $$"
   ]
  },
  {
   "cell_type": "markdown",
   "metadata": {},
   "source": [
    "Using a different basis, different coefficients can describe the same vector.\n",
    "\n",
    "$$  G_0 \\frac{1}{\\sqrt{2}} \\left[ \\begin{array}{c}  1 \\\\ 1  \\end{array} \\right] + \n",
    "G_1 \\frac{1}{\\sqrt{2}} \\left[ \\begin{array}{c}  1 \\\\ -1  \\end{array} \\right] $$\n",
    "\n",
    "(The sqrt(2)'s give the basis vectors length 1, i.e. \"normalizes\" them.)\n",
    "\n",
    "This transormation <b>f</b> to <b>G</b> is a DCT (Discrete Cosine Transform). \n",
    "For a vector with 2 components, this perhaps isn't all that exciting, \n",
    "but does still transform the original $(f_0, f_1)$ into low and high frequency components $(G_0, G_1)$.\n"
   ]
  },
  {
   "cell_type": "markdown",
   "metadata": {},
   "source": [
    "### quick quiz 1\n",
    "\n",
    "If $f_0 = 3$ and $f_1 = 5$, what are the G's?"
   ]
  },
  {
   "cell_type": "markdown",
   "metadata": {},
   "source": [
    "### the matrix math\n",
    "\n",
    "This transform can be written as a matrix multiplication.\n",
    "\n",
    "$$ \n",
    "f_0 \\left[ \\begin{array}{c}  1 \\\\ 0  \\end{array} \\right] + f_1 \\left[ \\begin{array}{c}  0 \\\\ 1  \\end{array} \\right] = \n",
    "\\left[ \\begin{array}{c}  f_0 \\\\ f_1  \\end{array} \\right] = \n",
    "G_0 \\frac{1}{\\sqrt{2}} \\left[ \\begin{array}{c}  1 \\\\ 1  \\end{array} \\right] + \n",
    "G_1 \\frac{1}{\\sqrt{2}} \\left[ \\begin{array}{c}  1 \\\\ -1  \\end{array} \\right] =\n",
    "\\frac{1}{\\sqrt{2}} \\left[ \\begin{array}{cc}  1 & 1 \\\\ 1 & -1  \\end{array} \\right] \n",
    "\\left[ \\begin{array}{c} G_0 \\\\ G_1  \\end{array} \\right]\n",
    "$$\n",
    "\n",
    "Moreover, this orthnormal matrix has the interesting and useful property that\n",
    "its transpose is its inverse. That makes the equation easy to invert."
   ]
  },
  {
   "cell_type": "markdown",
   "metadata": {},
   "source": [
    "### quick quiz 2\n",
    "\n",
    "Show that the matrix times its transpose is the identity, and use that to find the G's."
   ]
  },
  {
   "cell_type": "markdown",
   "metadata": {},
   "source": [
    "### two dimensions\n",
    "\n",
    "The same idea can be applied to 2D images rather than 1D vectors,\n",
    "by applying the 1D transform to each row and column of the image.\n",
    "\n",
    "The 2D basis images for N=2 are then the outer products of the 1D basis vectors.\n",
    "From lowest (0,0) to highest (1,1) spatial frequency these basis images are :"
   ]
  },
  {
   "cell_type": "code",
   "execution_count": 2,
   "metadata": {},
   "outputs": [
    {
     "name": "stdout",
     "output_type": "stream",
     "text": [
      "0, 0 :\n",
      "[[0.5 0.5]\n",
      " [0.5 0.5]]\n",
      "\n",
      "0, 1 :\n",
      "[[ 0.5 -0.5]\n",
      " [ 0.5 -0.5]]\n",
      "\n",
      "1, 0 :\n",
      "[[ 0.5  0.5]\n",
      " [-0.5 -0.5]]\n",
      "\n",
      "1, 1 :\n",
      "[[ 0.5 -0.5]\n",
      " [-0.5  0.5]]\n",
      "\n"
     ]
    }
   ],
   "source": [
    "basis = (1/sqrt(2) * array([1, 1]), 1/sqrt(2) * array([1, -1]))\n",
    "for i in [0,1]:\n",
    "    for j in [0,1]:\n",
    "        print(\"{}, {} :\".format(i,j))\n",
    "        print(outer(basis[i], basis[j]))\n",
    "        print()\n"
   ]
  },
  {
   "cell_type": "markdown",
   "metadata": {},
   "source": [
    "### quick quiz\n",
    "\n",
    "For an image $ f = \\left[ \\begin{array}{cc} 5 & 8 \\\\ 4 & -1 \\end{array} \\right]$, what are the correspoding four $G$ coefficients?"
   ]
  },
  {
   "cell_type": "markdown",
   "metadata": {},
   "source": [
    "## N = 8\n",
    "\n",
    "JPEG image compression uses the same sort of transform but with 8 coefficients, not 2.\n",
    "\n",
    "The matrix is defined by this formula :\n",
    "\n",
    "$$ \n",
    "G_u = \\sqrt{\\frac{2}{N}} \\frac{1}{\\sqrt{2}} f_0 + \n",
    "\\sqrt{\\frac{2}{N}} \\sum_{x=1}^7 f_x \\, cos\\left( \\frac{\\pi}{8} (u + \\frac{1}{2}) x \\right)\n",
    "$$\n",
    "\n",
    "See http://en.wikipedia.org/wiki/Discrete_cosine_transform\n",
    "and http://www.whydomath.org/node/wavlets/dct.html for the details.\n",
    "In the wikipedia entry, we're using the JPEG transform which corresponds\n",
    "to the \"Some authors further multiply the X0 term by 1/sqrt(2) and multiply the resulting matrix \n",
    "by an overall scale factor of sqrt(2/N)\" variation, \n",
    "where their $(k, n)$ indices are my $(u, x)$, \n",
    "and their $(X_k, x_n)$ is my $(G_u, f_x)$.\n"
   ]
  },
  {
   "cell_type": "code",
   "execution_count": 3,
   "metadata": {},
   "outputs": [
    {
     "data": {
      "text/plain": [
       "array([[ 0.354,  0.354,  0.354,  0.354,  0.354,  0.354,  0.354,  0.354],\n",
       "       [ 0.49 ,  0.416,  0.278,  0.098, -0.098, -0.278, -0.416, -0.49 ],\n",
       "       [ 0.462,  0.191, -0.191, -0.462, -0.462, -0.191,  0.191,  0.462],\n",
       "       [ 0.416, -0.098, -0.49 , -0.278,  0.278,  0.49 ,  0.098, -0.416],\n",
       "       [ 0.354, -0.354, -0.354,  0.354,  0.354, -0.354, -0.354,  0.354],\n",
       "       [ 0.278, -0.49 ,  0.098,  0.416, -0.416, -0.098,  0.49 , -0.278],\n",
       "       [ 0.191, -0.462,  0.462, -0.191, -0.191,  0.462, -0.462,  0.191],\n",
       "       [ 0.098, -0.278,  0.416, -0.49 ,  0.49 , -0.416,  0.278, -0.098]])"
      ]
     },
     "execution_count": 3,
     "metadata": {},
     "output_type": "execute_result"
    }
   ],
   "source": [
    "# The 8 x 8 DCT matrix thus looks like this.\n",
    "N = 8\n",
    "dct = np.zeros((N, N))\n",
    "for x in range(N):\n",
    "    dct[0,x] = sqrt(2.0/N) / sqrt(2.0)\n",
    "for u in range(1,N):\n",
    "    for x in range(N):\n",
    "        dct[u,x] = sqrt(2.0/N) * cos((pi/N) * u * (x + 0.5) )\n",
    "        \n",
    "np.set_printoptions(precision=3)\n",
    "dct"
   ]
  },
  {
   "cell_type": "markdown",
   "metadata": {},
   "source": [
    "The corresponding eight 1D basis vectors (the matrix rows) oscillate with successively higher spatial frequencies."
   ]
  },
  {
   "cell_type": "code",
   "execution_count": 4,
   "metadata": {},
   "outputs": [
    {
     "data": {
      "image/png": "[encoded data removed]",
      "text/plain": [
       "<Figure size 648x864 with 8 Axes>"
      ]
     },
     "metadata": {
      "needs_background": "light"
     },
     "output_type": "display_data"
    }
   ],
   "source": [
    "# Here's what they look like.\n",
    "figure(figsize=(9,12))\n",
    "for u in range(N):\n",
    "    subplot(4, 2, u+1)\n",
    "    ylim((-1, 1))\n",
    "    title(str(u))\n",
    "    plot(dct[u, :])\n",
    "    plot(dct[u, :],'ro')"
   ]
  },
  {
   "cell_type": "markdown",
   "metadata": {},
   "source": [
    "Like the N=2 case, the vectors are orthnormal. \n",
    "In other words, their dot products are 0, and each has length 1. \n",
    "Here are a few illustrative products."
   ]
  },
  {
   "cell_type": "code",
   "execution_count": 5,
   "metadata": {},
   "outputs": [
    {
     "data": {
      "text/plain": [
       "(0.9999999999999998,\n",
       " 0.9999999999999998,\n",
       " 6.938893903907228e-17,\n",
       " 1.942890293094024e-16,\n",
       " -2.498001805406602e-16)"
      ]
     },
     "execution_count": 5,
     "metadata": {},
     "output_type": "execute_result"
    }
   ],
   "source": [
    "def rowdot(i,j):\n",
    "    return dot(dct[i, :], dct[j, :])\n",
    "rowdot(0,0), rowdot(3,3), rowdot(0,3), rowdot(1, 7), rowdot(1,5)"
   ]
  },
  {
   "cell_type": "markdown",
   "metadata": {},
   "source": [
    "This also implies the inverse of this matrix is just its transpose."
   ]
  },
  {
   "cell_type": "code",
   "execution_count": 6,
   "metadata": {},
   "outputs": [
    {
     "data": {
      "text/plain": [
       "array([[ 0.354,  0.49 ,  0.462,  0.416,  0.354,  0.278,  0.191,  0.098],\n",
       "       [ 0.354,  0.416,  0.191, -0.098, -0.354, -0.49 , -0.462, -0.278],\n",
       "       [ 0.354,  0.278, -0.191, -0.49 , -0.354,  0.098,  0.462,  0.416],\n",
       "       [ 0.354,  0.098, -0.462, -0.278,  0.354,  0.416, -0.191, -0.49 ],\n",
       "       [ 0.354, -0.098, -0.462,  0.278,  0.354, -0.416, -0.191,  0.49 ],\n",
       "       [ 0.354, -0.278, -0.191,  0.49 , -0.354, -0.098,  0.462, -0.416],\n",
       "       [ 0.354, -0.416,  0.191,  0.098, -0.354,  0.49 , -0.462,  0.278],\n",
       "       [ 0.354, -0.49 ,  0.462, -0.416,  0.354, -0.278,  0.191, -0.098]])"
      ]
     },
     "execution_count": 6,
     "metadata": {},
     "output_type": "execute_result"
    }
   ],
   "source": [
    "dct_transpose = dct.transpose()\n",
    "dct_transpose"
   ]
  },
  {
   "cell_type": "code",
   "execution_count": 7,
   "metadata": {},
   "outputs": [
    {
     "data": {
      "text/plain": [
       "array([[ 1.,  0., -0.,  0.,  0.,  0., -0., -0.],\n",
       "       [ 0.,  1.,  0., -0.,  0., -0.,  0.,  0.],\n",
       "       [-0.,  0.,  1.,  0., -0.,  0.,  0.,  0.],\n",
       "       [ 0., -0.,  0.,  1.,  0.,  0., -0.,  0.],\n",
       "       [ 0.,  0., -0.,  0.,  1.,  0., -0., -0.],\n",
       "       [ 0., -0.,  0.,  0.,  0.,  1.,  0., -0.],\n",
       "       [-0.,  0.,  0., -0., -0.,  0.,  1.,  0.],\n",
       "       [-0.,  0.,  0.,  0., -0., -0.,  0.,  1.]])"
      ]
     },
     "execution_count": 7,
     "metadata": {},
     "output_type": "execute_result"
    }
   ],
   "source": [
    "# Is the dot product of dct and its transpose the identity?\n",
    "maybe_identity = dot(dct, dct_transpose)\n",
    "\n",
    "# Since there are many nearly zero like 3.2334e-17 in this numerical result,\n",
    "# the output will look much nicer if we round them all of to (say) 6 places.\n",
    "roundoff = vectorize(lambda m: round(m, 6))\n",
    "roundoff(maybe_identity)"
   ]
  },
  {
   "cell_type": "markdown",
   "metadata": {},
   "source": [
    "## playing with a real image\n",
    "\n",
    "To make all this more concrete, let's apply the 2D DCT transform to part of a real image.\n",
    "\n",
    "Here's one, takenly randomly from the web."
   ]
  },
  {
   "cell_type": "code",
   "execution_count": 10,
   "metadata": {},
   "outputs": [
    {
     "data": {
      "text/plain": [
       "<matplotlib.image.AxesImage at 0x7f9b20830da0>"
      ]
     },
     "execution_count": 10,
     "metadata": {},
     "output_type": "execute_result"
    },
    {
     "data": {
      "image/png": "[encoded data removed]",
      "text/plain": [
       "<Figure size 432x288 with 1 Axes>"
      ]
     },
     "metadata": {
      "needs_background": "light"
     },
     "output_type": "display_data"
    }
   ],
   "source": [
    "# See http://matplotlib.org/users/image_tutorial.html for the image manipulation syntax.\n",
    "# The image itself is a small piece from http://www.cordwainer-smith.com/virgil_finlay.htm.\n",
    "img = mpimg.imread('stormplanet112.jpg')\n",
    "plt.imshow(img)"
   ]
  },
  {
   "cell_type": "code",
   "execution_count": 11,
   "metadata": {},
   "outputs": [
    {
     "data": {
      "text/plain": [
       "(112, 112, 3)"
      ]
     },
     "execution_count": 11,
     "metadata": {},
     "output_type": "execute_result"
    }
   ],
   "source": [
    "# The image itself contains 3 dimensions: rows, columns, and colors\n",
    "img.shape"
   ]
  },
  {
   "cell_type": "markdown",
   "metadata": {},
   "source": [
    "All three of the R,G,B color values in the greyscale image are the same for each pixel.\n",
    "\n",
    "Let's just look at values from one tiny 8 x 8 block (which is what's used JPEG compression) near his nose.\n",
    "\n",
    "(The next images use a false color spectrum to display pixel intensity.)"
   ]
  },
  {
   "cell_type": "code",
   "execution_count": 12,
   "metadata": {},
   "outputs": [
    {
     "data": {
      "image/png": "[encoded data removed]",
      "text/plain": [
       "<Figure size 432x288 with 2 Axes>"
      ]
     },
     "metadata": {
      "needs_background": "light"
     },
     "output_type": "display_data"
    }
   ],
   "source": [
    "tiny = img[40:48, 40:48, 0]    # a tiny 8 x 8 block, in the color=0 (Red) channel\n",
    "\n",
    "def show_image(img):\n",
    "    plt.imshow(img)\n",
    "    plt.colorbar()\n",
    "\n",
    "show_image(tiny)"
   ]
  },
  {
   "cell_type": "code",
   "execution_count": 13,
   "metadata": {},
   "outputs": [
    {
     "data": {
      "text/plain": [
       "array([[179, 140, 138, 101, 110, 135, 143, 144],\n",
       "       [ 76,  64,  91, 110, 113, 109, 104, 118],\n",
       "       [ 78,  68,  40,  34,  33,  66,  90, 105],\n",
       "       [209, 204, 168, 163, 132, 100,  73,  57],\n",
       "       [219, 231, 221, 227, 226, 205, 172, 130],\n",
       "       [215, 213, 217, 223, 232, 224, 217, 203],\n",
       "       [181, 202, 233, 214, 207, 226, 235, 235],\n",
       "       [ 69,  44,  62,  66,  83, 129, 153, 182]], dtype=uint8)"
      ]
     },
     "execution_count": 13,
     "metadata": {},
     "output_type": "execute_result"
    }
   ],
   "source": [
    "# And here are the numbers.\n",
    "tiny"
   ]
  },
  {
   "cell_type": "markdown",
   "metadata": {},
   "source": [
    "Now we define the 2D version of the N=8 DCT described above. \n",
    "\n",
    "The trick is to apply the 1D DCT to every column, *and* then also apply it to every row, i.e.\n",
    "\n",
    "$$ G = {DCT} \\cdot f \\cdot {DCT}^{T} $$"
   ]
  },
  {
   "cell_type": "code",
   "execution_count": 14,
   "metadata": {},
   "outputs": [
    {
     "data": {
      "image/png": "[encoded data removed]",
      "text/plain": [
       "<Figure size 432x288 with 2 Axes>"
      ]
     },
     "metadata": {
      "needs_background": "light"
     },
     "output_type": "display_data"
    }
   ],
   "source": [
    "def doDCT(grid):\n",
    "    return dot(dot(dct, grid), dct_transpose)\n",
    "\n",
    "def undoDCT(grid):\n",
    "    return dot(dot(dct_transpose, grid), dct)\n",
    "\n",
    "# test : do DCT, then undo DCT; should get back the same image.\n",
    "tiny_do_undo = undoDCT(doDCT(tiny))\n",
    "\n",
    "show_image(tiny_do_undo) # Yup, looks the same."
   ]
  },
  {
   "cell_type": "code",
   "execution_count": 15,
   "metadata": {},
   "outputs": [
    {
     "data": {
      "text/plain": [
       "array([[179., 140., 138., 101., 110., 135., 143., 144.],\n",
       "       [ 76.,  64.,  91., 110., 113., 109., 104., 118.],\n",
       "       [ 78.,  68.,  40.,  34.,  33.,  66.,  90., 105.],\n",
       "       [209., 204., 168., 163., 132., 100.,  73.,  57.],\n",
       "       [219., 231., 221., 227., 226., 205., 172., 130.],\n",
       "       [215., 213., 217., 223., 232., 224., 217., 203.],\n",
       "       [181., 202., 233., 214., 207., 226., 235., 235.],\n",
       "       [ 69.,  44.,  62.,  66.,  83., 129., 153., 182.]])"
      ]
     },
     "execution_count": 15,
     "metadata": {},
     "output_type": "execute_result"
    }
   ],
   "source": [
    "# And the numbers are the same.\n",
    "tiny_do_undo"
   ]
  },
  {
   "cell_type": "markdown",
   "metadata": {},
   "source": [
    "The DCT transform looks like this. \n",
    "Note that most of the intensity is at the top left, in the lowest frequencies."
   ]
  },
  {
   "cell_type": "code",
   "execution_count": 16,
   "metadata": {},
   "outputs": [
    {
     "data": {
      "image/png": "[encoded data removed]",
      "text/plain": [
       "<Figure size 432x288 with 2 Axes>"
      ]
     },
     "metadata": {
      "needs_background": "light"
     },
     "output_type": "display_data"
    }
   ],
   "source": [
    "tinyDCT = doDCT(tiny)\n",
    "show_image(tinyDCT)"
   ]
  },
  {
   "cell_type": "code",
   "execution_count": 17,
   "metadata": {},
   "outputs": [
    {
     "data": {
      "text/plain": [
       "array([['1173.9', '   3.6', '  19.8', '  12.3', '  -5.4', '   8.2', '  10.3', '  -0.0'],\n",
       "       ['-225.9', '  64.1', '  24.2', '  12.2', '   9.9', '  -0.2', '   0.0', '   0.1'],\n",
       "       ['-122.7', '-161.8', '  63.2', ' -15.0', '   0.3', '  11.1', '  28.5', '  10.7'],\n",
       "       [' 341.9', '  50.8', ' -48.4', '  12.0', ' -10.2', '  -0.4', '   0.1', '  12.1'],\n",
       "       [' -20.1', '  80.2', '   6.9', '  22.1', '   0.1', '  -0.1', '  -0.0', '  -0.3'],\n",
       "       ['  74.4', '  69.9', '  32.9', ' -13.0', ' -16.3', '  -0.4', '  -0.2', '  -0.0'],\n",
       "       ['-100.6', ' -38.9', '  64.3', '  17.2', '  -0.3', '   0.5', '  -0.2', '  -0.1'],\n",
       "       ['  13.8', ' -36.5', '  18.5', '  -0.4', ' -21.6', '   0.1', '   0.3', '   0.2']],\n",
       "      dtype='<U6')"
      ]
     },
     "execution_count": 17,
     "metadata": {},
     "output_type": "execute_result"
    }
   ],
   "source": [
    "set_printoptions(linewidth=100) # output line width (default is 75)\n",
    "round6 = vectorize(lambda m: '{:6.1f}'.format(m))\n",
    "round6(tinyDCT)"
   ]
  },
  {
   "cell_type": "markdown",
   "metadata": {},
   "source": [
    "<img src=\"https://upload.wikimedia.org/wikipedia/commons/2/23/Dctjpeg.png\"  width=50% style=\"float:left; padding:2em\">\n",
    "\n",
    "The grid positions in that last image correspond to spatial frequencies, with the lowest DC component at the top left, and the highest vertical and horizontal frequency at the bottom right.\n",
    "\n",
    "These 2D basis functions can be visualized with the image shown which is from <a href=\"http://en.wikipedia.org/wiki/File:Dctjpeg.png\">wikimedia commons</a>."
   ]
  },
  {
   "cell_type": "markdown",
   "metadata": {},
   "source": [
    "The details of what I'm doing here don't really match the JPEG transformations:\n",
    "I haven't done the color space transforms, and I haven't handled the DC offsets\n",
    "as the JPEG spec does (which centers the values around 0 explicitly.)\n",
    "\n",
    "But the concept is visible in the last two pictures: after the DCT, most of the power is in fewer pixels, which are typically near the top left DC part of the grid. \n",
    "\n",
    "So here's a simple lossy \"low pass filter\" of the data : let's \n",
    "chop some of the high frequency numbers.\n",
    "One (somewhat arbitrary) choice to to set the frequencies \n",
    "higher than the (1,7) to (7,1) line, to zero.\n",
    "\n",
    "This is a lossy transormation since we're throwing away information - \n",
    "it can't be undone. But since there are fewer numbers, it's a form \n",
    "of compression."
   ]
  },
  {
   "cell_type": "code",
   "execution_count": 19,
   "metadata": {},
   "outputs": [
    {
     "data": {
      "image/png": "[encoded data removed]",
      "text/plain": [
       "<Figure size 432x288 with 2 Axes>"
      ]
     },
     "metadata": {
      "needs_background": "light"
     },
     "output_type": "display_data"
    }
   ],
   "source": [
    "# First make a copy to work on.\n",
    "tinyDCT_chopped = tinyDCT.copy()\n",
    "\n",
    "# Then zero the pieces below the x + y = 8 line.\n",
    "for x in range(N):\n",
    "    for u in range(N):\n",
    "        if x + u > 8:\n",
    "            tinyDCT_chopped[x,u] = 0.0\n",
    "\n",
    "show_image(tinyDCT_chopped)"
   ]
  },
  {
   "cell_type": "code",
   "execution_count": 20,
   "metadata": {},
   "outputs": [
    {
     "data": {
      "text/plain": [
       "array([['1173.9', '   3.6', '  19.8', '  12.3', '  -5.4', '   8.2', '  10.3', '  -0.0'],\n",
       "       ['-225.9', '  64.1', '  24.2', '  12.2', '   9.9', '  -0.2', '   0.0', '   0.1'],\n",
       "       ['-122.7', '-161.8', '  63.2', ' -15.0', '   0.3', '  11.1', '  28.5', '   0.0'],\n",
       "       [' 341.9', '  50.8', ' -48.4', '  12.0', ' -10.2', '  -0.4', '   0.0', '   0.0'],\n",
       "       [' -20.1', '  80.2', '   6.9', '  22.1', '   0.1', '   0.0', '   0.0', '   0.0'],\n",
       "       ['  74.4', '  69.9', '  32.9', ' -13.0', '   0.0', '   0.0', '   0.0', '   0.0'],\n",
       "       ['-100.6', ' -38.9', '  64.3', '   0.0', '   0.0', '   0.0', '   0.0', '   0.0'],\n",
       "       ['  13.8', ' -36.5', '   0.0', '   0.0', '   0.0', '   0.0', '   0.0', '   0.0']],\n",
       "      dtype='<U6')"
      ]
     },
     "execution_count": 20,
     "metadata": {},
     "output_type": "execute_result"
    }
   ],
   "source": [
    "round6(tinyDCT_chopped)\n",
    "# Notice all the zeros at the bottom right - those are the chopped high frequences.\n",
    "# We've essentially done a \"low pass filter\" on the spacial frequencies."
   ]
  },
  {
   "cell_type": "markdown",
   "metadata": {},
   "source": [
    "To see what this did to the original, we just transform it back."
   ]
  },
  {
   "cell_type": "code",
   "execution_count": 21,
   "metadata": {},
   "outputs": [
    {
     "data": {
      "image/png": "[encoded data removed]",
      "text/plain": [
       "<Figure size 432x288 with 2 Axes>"
      ]
     },
     "metadata": {
      "needs_background": "light"
     },
     "output_type": "display_data"
    }
   ],
   "source": [
    "tiny_chopped_float = undoDCT(tinyDCT_chopped)\n",
    "\n",
    "# Also convert the floats back to uint8, which was the original format\n",
    "tiny_chopped = vectorize(lambda x: uint8(x))(tiny_chopped_float) \n",
    "\n",
    "show_image(tiny_chopped)"
   ]
  },
  {
   "cell_type": "code",
   "execution_count": 22,
   "metadata": {},
   "outputs": [
    {
     "data": {
      "text/plain": [
       "array([[178, 140, 133, 109, 107, 135, 137, 147],\n",
       "       [ 76,  69,  90, 100, 107, 117, 110, 112],\n",
       "       [ 75,  61,  44,  39,  42,  56,  86, 107],\n",
       "       [214, 204, 169, 152, 131,  97,  78,  57],\n",
       "       [217, 227, 220, 230, 233, 206, 169, 125],\n",
       "       [211, 220, 221, 219, 220, 223, 220, 206],\n",
       "       [186, 196, 223, 220, 214, 227, 229, 234],\n",
       "       [ 66,  46,  65,  63,  79, 129, 155, 181]], dtype=uint8)"
      ]
     },
     "execution_count": 22,
     "metadata": {},
     "output_type": "execute_result"
    }
   ],
   "source": [
    "tiny_chopped"
   ]
  },
  {
   "cell_type": "markdown",
   "metadata": {},
   "source": [
    "And we have something close to the original back again - even though close to half of the transformed image was set to zero."
   ]
  },
  {
   "cell_type": "markdown",
   "metadata": {},
   "source": [
    "## conclusions\n",
    "\n",
    "The procedue here isn't what happens in JPEG compression, but does illustrate one of the central \n",
    "concepts - throwing away some of higher spatial frequency information after a DCT transform.\n",
    "\n",
    "In the real JPEG lossy compression algorithm, the steps are\n",
    "\n",
    "* the color space is transformed from R,G,B to Y,Cb,Cr to take advantage of human visual prejudices\n",
    "\n",
    "* the values are shifted so that they center around zero\n",
    "\n",
    "* the values after the DCT are \"quantized\" (i.e. rounded off) by different amounts at different spots in the grid. *(*This* is the lossy step, and how lossy depends on the JPEG quality.)\n",
    "\n",
    "* a zigzag (keeping similar frequencies together) pattern turns this to a 1D stream of 64 values\n",
    "\n",
    "* which are then huffman encoded by, typically by a pre-chosen code (part of the JPEG standard)\n",
    "\n",
    "For all the JPEG details, see http://en.wikipedia.org/wiki/JPEG .\n"
   ]
  }
 ],
 "metadata": {
  "kernelspec": {
   "display_name": "Python 3",
   "language": "python",
   "name": "python3"
  },
  "language_info": {
   "codemirror_mode": {
    "name": "ipython",
    "version": 3
   },
   "file_extension": ".py",
   "mimetype": "text/x-python",
   "name": "python",
   "nbconvert_exporter": "python",
   "pygments_lexer": "ipython3",
   "version": "3.6.6"
  }
 },
 "nbformat": 4,
 "nbformat_minor": 1
}
